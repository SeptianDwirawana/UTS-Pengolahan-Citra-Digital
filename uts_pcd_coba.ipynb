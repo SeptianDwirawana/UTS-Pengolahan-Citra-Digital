{
 "cells": [
  {
   "cell_type": "code",
   "execution_count": 1,
   "id": "ec0deceb",
   "metadata": {},
   "outputs": [
    {
     "data": {
      "text/plain": [
       "<function destroyAllWindows>"
      ]
     },
     "execution_count": 1,
     "metadata": {},
     "output_type": "execute_result"
    }
   ],
   "source": [
    "import cv2\n",
    "\n",
    "cap = cv2.VideoCapture(\"lalu-lintas.mp4\")\n",
    "\n",
    "deteksi = cv2.createBackgroundSubtractorMOG2()\n",
    "\n",
    "while True:\n",
    "    ret, frame = cap.read()\n",
    "    if not ret:\n",
    "        break  # Keluar dari loop jika tidak ada frame yang berhasil dibaca\n",
    "\n",
    "    area = frame[250:575, 150:700]\n",
    "    objek = deteksi.apply(area)\n",
    "    contours, _ = cv2.findContours(objek, cv2.RETR_TREE, cv2.CHAIN_APPROX_SIMPLE)\n",
    "    # Lanjutkan dengan pemrosesan kontur dan operasi lainnya\n",
    "\n",
    "    for cnt in contours:\n",
    "        luas = cv2.contourArea(cnt)\n",
    "        if luas > 800:\n",
    "            #cv2.drawContours(area, (cnt), -1, (0,225,0), 3)\n",
    "            x, y, w, h = cv2.boundingRect(cnt)\n",
    "            cv2.rectangle(area, (x, y), (x + w, y + h), (0, 225, 0), 3)\n",
    "    \n",
    "    cv2.imshow(\"Lalu-lintas\", frame)\n",
    "    #cv2.imshow(\"Objek\", objek)\n",
    "    #cv2.imshow(\"Area\", area)\n",
    "    \n",
    "    key = cv2.waitKey(30)\n",
    "    if key == 27:\n",
    "        break\n",
    "\n",
    "cap.release()\n",
    "cv2.destroyAllWindows"
   ]
  },
  {
   "cell_type": "code",
   "execution_count": null,
   "id": "e5347f9e",
   "metadata": {},
   "outputs": [],
   "source": []
  }
 ],
 "metadata": {
  "kernelspec": {
   "display_name": "Python 3 (ipykernel)",
   "language": "python",
   "name": "python3"
  },
  "language_info": {
   "codemirror_mode": {
    "name": "ipython",
    "version": 3
   },
   "file_extension": ".py",
   "mimetype": "text/x-python",
   "name": "python",
   "nbconvert_exporter": "python",
   "pygments_lexer": "ipython3",
   "version": "3.11.2"
  }
 },
 "nbformat": 4,
 "nbformat_minor": 5
}
